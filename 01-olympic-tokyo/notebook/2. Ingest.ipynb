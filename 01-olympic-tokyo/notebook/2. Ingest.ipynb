{
 "cells": [
  {
   "cell_type": "code",
   "execution_count": 0,
   "metadata": {
    "application/vnd.databricks.v1+cell": {
     "cellMetadata": {
      "byteLimit": 2048000,
      "rowLimit": 10000
     },
     "inputWidgets": {},
     "nuid": "96a28201-7f9b-4a51-acc5-ed6c589bbfc8",
     "showTitle": false,
     "title": ""
    }
   },
   "outputs": [],
   "source": [
    "%run ./0.Config"
   ]
  },
  {
   "cell_type": "markdown",
   "metadata": {
    "application/vnd.databricks.v1+cell": {
     "cellMetadata": {
      "byteLimit": 2048000,
      "rowLimit": 10000
     },
     "inputWidgets": {},
     "nuid": "63629311-b97f-41da-aa5e-902d2cec4ac5",
     "showTitle": false,
     "title": ""
    }
   },
   "source": [
    "### 1. Load raw data"
   ]
  },
  {
   "cell_type": "code",
   "execution_count": 0,
   "metadata": {
    "application/vnd.databricks.v1+cell": {
     "cellMetadata": {
      "byteLimit": 2048000,
      "rowLimit": 10000
     },
     "inputWidgets": {},
     "nuid": "b0294505-ac99-4d6d-98a8-0b9f720d6368",
     "showTitle": false,
     "title": ""
    }
   },
   "outputs": [],
   "source": [
    "from pyspark.sql.types import StructType,StructField,StringType,IntegerType\n",
    "from pyspark.sql.functions import monotonically_increasing_id"
   ]
  },
  {
   "cell_type": "code",
   "execution_count": 0,
   "metadata": {
    "application/vnd.databricks.v1+cell": {
     "cellMetadata": {
      "byteLimit": 2048000,
      "rowLimit": 10000
     },
     "inputWidgets": {},
     "nuid": "ff50998a-ce20-4810-9097-a3fcf7340a43",
     "showTitle": false,
     "title": ""
    }
   },
   "outputs": [],
   "source": [
    "#Create schema\n",
    "Athletes_schema = StructType(fields= [StructField('personName',StringType(),False),\n",
    "                                     StructField('country',StringType(),False),\n",
    "                                     StructField('discipline',StringType(),False)\n",
    "])\n",
    "\n",
    "Teams_schema = StructType(fields= [StructField('teamName',StringType(),False),\n",
    "                                     StructField('discipline',StringType(),False),\n",
    "                                     StructField('country',StringType(),False),\n",
    "                                     StructField('event',StringType(),False)\n",
    "])\n",
    "\n",
    "EntriesGender_schema = StructType(fields= [StructField('discipline',StringType(),False),\n",
    "                                     StructField('female',IntegerType(),False),\n",
    "                                     StructField('male',IntegerType(),False),\n",
    "                                     StructField('total',IntegerType(),False)\n",
    "])\n",
    "\n",
    "Coaches_schema = StructType(fields= [StructField('name',StringType(),False),\n",
    "                                     StructField('country',StringType(),False),\n",
    "                                     StructField('discipline',StringType(),False),\n",
    "                                     StructField('event',StringType(),True)\n",
    "])\n",
    "\n",
    "Medals_schema = StructType(fields= [StructField('rank',IntegerType(),False),\n",
    "                                     StructField('teamCountry',StringType(),False),\n",
    "                                     StructField('gold',IntegerType(),False),\n",
    "                                     StructField('silver',IntegerType(),False),\n",
    "                                     StructField('bronze',IntegerType(),False),\n",
    "                                     StructField('total',IntegerType(),False),\n",
    "                                     StructField('rankByTotal',IntegerType(),False)\n",
    "])"
   ]
  },
  {
   "cell_type": "code",
   "execution_count": 0,
   "metadata": {
    "application/vnd.databricks.v1+cell": {
     "cellMetadata": {
      "byteLimit": 2048000,
      "implicitDf": true,
      "rowLimit": 10000
     },
     "inputWidgets": {},
     "nuid": "8ff386f1-08b0-4cce-83c5-e1b0b9ce262f",
     "showTitle": false,
     "title": ""
    }
   },
   "outputs": [],
   "source": [
    "Athletes_raw_df = spark.read.option('header',True).schema(Athletes_schema).csv(Athletes_raw_path)\n",
    "Coaches_raw_df = spark.read.option('header',True).schema(Coaches_schema).csv(Coaches_raw_path)\n",
    "EntriesGender_df = spark.read.option('header',True).schema(EntriesGender_schema).csv(EntriesGender_raw_path)\n",
    "Medals_raw_df = spark.read.option('header',True).schema(Medals_schema).csv(Medals_raw_path)\n",
    "Teams_raw_df = spark.read.option('header',True).schema(Teams_schema).csv(Teams_raw_path)"
   ]
  },
  {
   "cell_type": "code",
   "execution_count": 0,
   "metadata": {
    "application/vnd.databricks.v1+cell": {
     "cellMetadata": {
      "byteLimit": 2048000,
      "rowLimit": 10000
     },
     "inputWidgets": {},
     "nuid": "add989d0-dfbc-438f-9f78-508b6d9e64a0",
     "showTitle": false,
     "title": ""
    }
   },
   "outputs": [],
   "source": []
  },
  {
   "cell_type": "markdown",
   "metadata": {
    "application/vnd.databricks.v1+cell": {
     "cellMetadata": {
      "byteLimit": 2048000,
      "rowLimit": 10000
     },
     "inputWidgets": {},
     "nuid": "59ad8fb0-6c2c-4236-8502-2d326ede0032",
     "showTitle": false,
     "title": ""
    }
   },
   "source": [
    "### 2.1. `Discipline` - Process and write to delta lake"
   ]
  },
  {
   "cell_type": "code",
   "execution_count": 0,
   "metadata": {
    "application/vnd.databricks.v1+cell": {
     "cellMetadata": {
      "byteLimit": 2048000,
      "rowLimit": 10000
     },
     "inputWidgets": {},
     "nuid": "637a235a-52f7-41b8-9b67-4bc8449558b7",
     "showTitle": false,
     "title": ""
    }
   },
   "outputs": [],
   "source": [
    "discipline_df = EntriesGender_df.select('discipline')\\\n",
    "                                .dropDuplicates()\\\n",
    "                                .withColumn('id',monotonically_increasing_id())\n",
    "\n",
    "processed_discipline_df= discipline_df.select('id','discipline')\n"
   ]
  },
  {
   "cell_type": "code",
   "execution_count": 0,
   "metadata": {
    "application/vnd.databricks.v1+cell": {
     "cellMetadata": {
      "byteLimit": 2048000,
      "rowLimit": 10000
     },
     "inputWidgets": {},
     "nuid": "db73a9c1-d1e7-4d10-977d-1deb3ad2fcf3",
     "showTitle": false,
     "title": ""
    }
   },
   "outputs": [],
   "source": [
    "processed_discipline_df.write.format('delta').mode('overwrite').saveAsTable(\"olympic_tokyo_processed.discipline\")"
   ]
  },
  {
   "cell_type": "markdown",
   "metadata": {
    "application/vnd.databricks.v1+cell": {
     "cellMetadata": {
      "byteLimit": 2048000,
      "rowLimit": 10000
     },
     "inputWidgets": {},
     "nuid": "c7edd420-441d-4ec2-aaea-4135ecdeddf7",
     "showTitle": false,
     "title": ""
    }
   },
   "source": [
    "### 2.2. `Country` - Process and write to delta lake"
   ]
  },
  {
   "cell_type": "code",
   "execution_count": 0,
   "metadata": {
    "application/vnd.databricks.v1+cell": {
     "cellMetadata": {
      "byteLimit": 2048000,
      "rowLimit": 10000
     },
     "inputWidgets": {},
     "nuid": "1558ae4d-6a18-434e-bc01-8ed146375485",
     "showTitle": false,
     "title": ""
    }
   },
   "outputs": [],
   "source": [
    "country_df = Medals_raw_df.select('teamCountry')\\\n",
    "                            .dropDuplicates()\\\n",
    "                            .withColumn('id',monotonically_increasing_id())\n",
    "\n",
    "processed_country_df= country_df.select('id','teamCountry')"
   ]
  },
  {
   "cell_type": "code",
   "execution_count": 0,
   "metadata": {
    "application/vnd.databricks.v1+cell": {
     "cellMetadata": {
      "byteLimit": 2048000,
      "rowLimit": 10000
     },
     "inputWidgets": {},
     "nuid": "bf18fa74-125e-466f-b681-be44f52a322c",
     "showTitle": false,
     "title": ""
    }
   },
   "outputs": [],
   "source": [
    "processed_country_df.write.format('delta').mode('overwrite').saveAsTable(\"olympic_tokyo_processed.country\")"
   ]
  },
  {
   "cell_type": "markdown",
   "metadata": {
    "application/vnd.databricks.v1+cell": {
     "cellMetadata": {
      "byteLimit": 2048000,
      "rowLimit": 10000
     },
     "inputWidgets": {},
     "nuid": "290df503-5afc-4a34-8ffa-ec27b0282893",
     "showTitle": false,
     "title": ""
    }
   },
   "source": [
    "### 2.3. `Athletes` - Process and write to delta lake"
   ]
  },
  {
   "cell_type": "code",
   "execution_count": 0,
   "metadata": {
    "application/vnd.databricks.v1+cell": {
     "cellMetadata": {
      "byteLimit": 2048000,
      "rowLimit": 10000
     },
     "inputWidgets": {},
     "nuid": "51bdfc6a-01c2-4c12-8640-280b22ad8690",
     "showTitle": false,
     "title": ""
    }
   },
   "outputs": [],
   "source": [
    "Ath_Dis_Cntry_df = Athletes_raw_df.join(processed_discipline_df,\\\n",
    "                                        Athletes_raw_df['discipline'] == processed_discipline_df['discipline'],'left').join(processed_country_df, Athletes_raw_df['country'] == processed_country_df['teamCountry'],'left')\n",
    "processed_athletes_df = Ath_Dis_Cntry_df.select(Athletes_raw_df.personName,processed_country_df.id.alias('countryId'),processed_discipline_df.id.alias('disciplineId'))"
   ]
  },
  {
   "cell_type": "code",
   "execution_count": 0,
   "metadata": {
    "application/vnd.databricks.v1+cell": {
     "cellMetadata": {
      "byteLimit": 2048000,
      "rowLimit": 10000
     },
     "inputWidgets": {},
     "nuid": "f87481ca-6ff3-45d6-acfa-e40f261503a7",
     "showTitle": false,
     "title": ""
    }
   },
   "outputs": [],
   "source": [
    "processed_athletes_df.write.format('delta').mode('overwrite').saveAsTable(\"olympic_tokyo_processed.athletes\")"
   ]
  },
  {
   "cell_type": "markdown",
   "metadata": {
    "application/vnd.databricks.v1+cell": {
     "cellMetadata": {
      "byteLimit": 2048000,
      "rowLimit": 10000
     },
     "inputWidgets": {},
     "nuid": "b73a49be-4f1d-4fcc-94b6-20fa895120d9",
     "showTitle": false,
     "title": ""
    }
   },
   "source": [
    "### 2.4. `EntriesGender` - Process and write to delta lake"
   ]
  },
  {
   "cell_type": "code",
   "execution_count": 0,
   "metadata": {
    "application/vnd.databricks.v1+cell": {
     "cellMetadata": {
      "byteLimit": 2048000,
      "rowLimit": 10000
     },
     "inputWidgets": {},
     "nuid": "75494006-c3f5-41db-8e68-87f61740e638",
     "showTitle": false,
     "title": ""
    }
   },
   "outputs": [],
   "source": [
    "EntriesGender_df.write.format('delta').mode('overwrite').saveAsTable(\"olympic_tokyo_processed.entriesgender\")"
   ]
  },
  {
   "cell_type": "markdown",
   "metadata": {
    "application/vnd.databricks.v1+cell": {
     "cellMetadata": {
      "byteLimit": 2048000,
      "rowLimit": 10000
     },
     "inputWidgets": {},
     "nuid": "3ab7a6c5-7f3b-4a5b-8d25-468f90ddc125",
     "showTitle": false,
     "title": ""
    }
   },
   "source": [
    "### 2.5. `Medals` - Process and write to delta lake\n"
   ]
  },
  {
   "cell_type": "code",
   "execution_count": 0,
   "metadata": {
    "application/vnd.databricks.v1+cell": {
     "cellMetadata": {
      "byteLimit": 2048000,
      "rowLimit": 10000
     },
     "inputWidgets": {},
     "nuid": "1e2631bc-be67-40d8-bfdf-f65196965966",
     "showTitle": false,
     "title": ""
    }
   },
   "outputs": [],
   "source": [
    "Medals_raw_df.write.format('delta').mode('overwrite').saveAsTable(\"olympic_tokyo_processed.medals\")"
   ]
  }
 ],
 "metadata": {
  "application/vnd.databricks.v1+notebook": {
   "dashboards": [],
   "language": "python",
   "notebookMetadata": {
    "mostRecentlyExecutedCommandWithImplicitDF": {
     "commandId": 1785965235808308,
     "dataframes": [
      "_sqldf"
     ]
    },
    "pythonIndentUnit": 4
   },
   "notebookName": "2. Ingest",
   "widgets": {}
  }
 },
 "nbformat": 4,
 "nbformat_minor": 0
}
