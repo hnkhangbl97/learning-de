{
 "cells": [
  {
   "cell_type": "code",
   "execution_count": 0,
   "metadata": {
    "application/vnd.databricks.v1+cell": {
     "cellMetadata": {
      "byteLimit": 2048000,
      "rowLimit": 10000
     },
     "inputWidgets": {},
     "nuid": "cf432dc0-5425-411c-b419-3eac6533cec1",
     "showTitle": false,
     "title": ""
    }
   },
   "outputs": [],
   "source": [
    "Athletes_raw_path = \"dbfs:/FileStore/Olympic-Tokyo/raw/Athletes.csv\"\n",
    "Coaches_raw_path = \"dbfs:/FileStore/Olympic-Tokyo/raw/Coaches.csv\"\n",
    "EntriesGender_raw_path = \"dbfs:/FileStore/Olympic-Tokyo/raw/EntriesGender.csv\"\n",
    "Medals_raw_path = \"dbfs:/FileStore/Olympic-Tokyo/raw/Medals.csv\"\n",
    "Teams_raw_path = \"dbfs:/FileStore/Olympic-Tokyo/raw/Teams.csv\""
   ]
  },
  {
   "cell_type": "code",
   "execution_count": 0,
   "metadata": {
    "application/vnd.databricks.v1+cell": {
     "cellMetadata": {
      "byteLimit": 2048000,
      "rowLimit": 10000
     },
     "inputWidgets": {},
     "nuid": "72a56d40-c257-47a3-bb82-2cb9dae9f698",
     "showTitle": false,
     "title": ""
    }
   },
   "outputs": [],
   "source": []
  }
 ],
 "metadata": {
  "application/vnd.databricks.v1+notebook": {
   "dashboards": [],
   "language": "python",
   "notebookMetadata": {
    "pythonIndentUnit": 4
   },
   "notebookName": "0.Config",
   "widgets": {}
  }
 },
 "nbformat": 4,
 "nbformat_minor": 0
}
