{
 "cells": [
  {
   "cell_type": "code",
   "execution_count": 0,
   "metadata": {
    "application/vnd.databricks.v1+cell": {
     "cellMetadata": {
      "byteLimit": 2048000,
      "rowLimit": 10000
     },
     "inputWidgets": {},
     "nuid": "3b01b39f-c623-48ce-be4c-50d552f4c735",
     "showTitle": false,
     "title": ""
    }
   },
   "outputs": [],
   "source": [
    "#Read table\n",
    "athletes_df = spark.table(\"olympic_tokyo_processed.athletes\")\n",
    "country_df = spark.table(\"olympic_tokyo_processed.country\")\n",
    "discipline_df = spark.table(\"olympic_tokyo_processed.discipline\")\n",
    "entriesgender_df = spark.table(\"olympic_tokyo_processed.entriesgender\")\n",
    "medals_df = spark.table(\"olympic_tokyo_processed.medals\")"
   ]
  },
  {
   "cell_type": "code",
   "execution_count": 0,
   "metadata": {
    "application/vnd.databricks.v1+cell": {
     "cellMetadata": {
      "byteLimit": 2048000,
      "rowLimit": 10000
     },
     "inputWidgets": {},
     "nuid": "593753a6-f967-43bb-9191-eb2cef8c6e38",
     "showTitle": false,
     "title": ""
    }
   },
   "outputs": [],
   "source": [
    "#import lib\n",
    "from pyspark.sql.functions import col"
   ]
  },
  {
   "cell_type": "markdown",
   "metadata": {
    "application/vnd.databricks.v1+cell": {
     "cellMetadata": {
      "byteLimit": 2048000,
      "rowLimit": 10000
     },
     "inputWidgets": {},
     "nuid": "a02733df-f0ed-4285-8bb6-58fb6771d5ca",
     "showTitle": false,
     "title": ""
    }
   },
   "source": [
    "### 1. Athletes EDA"
   ]
  },
  {
   "cell_type": "markdown",
   "metadata": {
    "application/vnd.databricks.v1+cell": {
     "cellMetadata": {
      "byteLimit": 2048000,
      "rowLimit": 10000
     },
     "inputWidgets": {},
     "nuid": "e6d8c344-c8cc-4953-9eff-97da487049d4",
     "showTitle": false,
     "title": ""
    }
   },
   "source": [
    "### 1.1. Number of athletes participants from each country\n"
   ]
  },
  {
   "cell_type": "code",
   "execution_count": 0,
   "metadata": {
    "application/vnd.databricks.v1+cell": {
     "cellMetadata": {
      "byteLimit": 2048000,
      "rowLimit": 10000
     },
     "inputWidgets": {},
     "nuid": "67ef29ef-0fcf-4495-b2fe-d831563466d6",
     "showTitle": false,
     "title": ""
    }
   },
   "outputs": [],
   "source": [
    "ath_per_countryid_df = athletes_df.groupBy('countryId').count().withColumnRenamed('count', 'Number_of_Athletes')\n"
   ]
  },
  {
   "cell_type": "code",
   "execution_count": 0,
   "metadata": {
    "application/vnd.databricks.v1+cell": {
     "cellMetadata": {
      "byteLimit": 2048000,
      "rowLimit": 10000
     },
     "inputWidgets": {},
     "nuid": "7bdd67dd-dd22-4529-96ff-3ab0704a8c0f",
     "showTitle": false,
     "title": ""
    }
   },
   "outputs": [],
   "source": [
    "ath_per_country_df = ath_per_countryid_df.join(country_df,ath_per_countryid_df['countryId'] == country_df['id'],\"inner\")\\\n",
    "                    .select(country_df['teamCountry'],ath_per_countryid_df['Number_of_Athletes'])\n"
   ]
  },
  {
   "cell_type": "code",
   "execution_count": 0,
   "metadata": {
    "application/vnd.databricks.v1+cell": {
     "cellMetadata": {
      "byteLimit": 2048000,
      "rowLimit": 10000
     },
     "inputWidgets": {},
     "nuid": "1fef11b5-3227-4c8a-8880-02f1ee5b7020",
     "showTitle": false,
     "title": ""
    }
   },
   "outputs": [],
   "source": [
    "presentation_ath_per_country_df =ath_per_country_df.orderBy(col(\"Number_of_Athletes\").desc())"
   ]
  },
  {
   "cell_type": "code",
   "execution_count": 0,
   "metadata": {
    "application/vnd.databricks.v1+cell": {
     "cellMetadata": {
      "byteLimit": 2048000,
      "rowLimit": 10000
     },
     "inputWidgets": {},
     "nuid": "f45afb6f-145c-483d-be3b-2b6996d7d5fe",
     "showTitle": false,
     "title": ""
    }
   },
   "outputs": [],
   "source": [
    "presentation_ath_per_country_df.write.format('delta').mode('overwrite').saveAsTable(\"olympic_tokyo_presentation.athlete_per_country\")"
   ]
  },
  {
   "cell_type": "markdown",
   "metadata": {
    "application/vnd.databricks.v1+cell": {
     "cellMetadata": {
      "byteLimit": 2048000,
      "rowLimit": 10000
     },
     "inputWidgets": {},
     "nuid": "cf5806d7-c0ce-4792-9558-7b9c63065049",
     "showTitle": false,
     "title": ""
    }
   },
   "source": [
    "### 1.2. Number of athletes participants from each discipline"
   ]
  },
  {
   "cell_type": "code",
   "execution_count": 0,
   "metadata": {
    "application/vnd.databricks.v1+cell": {
     "cellMetadata": {
      "byteLimit": 2048000,
      "rowLimit": 10000
     },
     "inputWidgets": {},
     "nuid": "8bcea5d0-bfcb-43cd-9553-fcdd9ed0327a",
     "showTitle": false,
     "title": ""
    }
   },
   "outputs": [],
   "source": [
    "ath_per_disciplineid_df = athletes_df.groupBy('disciplineId').count().withColumnRenamed('count', 'Number_of_Athletes')\n"
   ]
  },
  {
   "cell_type": "code",
   "execution_count": 0,
   "metadata": {
    "application/vnd.databricks.v1+cell": {
     "cellMetadata": {
      "byteLimit": 2048000,
      "rowLimit": 10000
     },
     "inputWidgets": {},
     "nuid": "33dd08ae-150b-4e78-b6b9-ef84deb2419a",
     "showTitle": false,
     "title": ""
    }
   },
   "outputs": [],
   "source": [
    "ath_per_discipline_df = ath_per_disciplineid_df.join(discipline_df,ath_per_disciplineid_df['disciplineId'] == discipline_df['id'],\"inner\")\\\n",
    "                    .select(discipline_df['discipline'],ath_per_disciplineid_df['Number_of_Athletes'])\n"
   ]
  },
  {
   "cell_type": "code",
   "execution_count": 0,
   "metadata": {
    "application/vnd.databricks.v1+cell": {
     "cellMetadata": {
      "byteLimit": 2048000,
      "rowLimit": 10000
     },
     "inputWidgets": {},
     "nuid": "b7f0d812-3c09-4174-822c-04ff15486b12",
     "showTitle": false,
     "title": ""
    }
   },
   "outputs": [],
   "source": [
    "presentation_ath_per_discipline_df =ath_per_discipline_df.orderBy(col(\"Number_of_Athletes\").desc())"
   ]
  },
  {
   "cell_type": "code",
   "execution_count": 0,
   "metadata": {
    "application/vnd.databricks.v1+cell": {
     "cellMetadata": {
      "byteLimit": 2048000,
      "rowLimit": 10000
     },
     "inputWidgets": {},
     "nuid": "a5bf49fb-d876-4fc1-94f8-b37cbc9eb26f",
     "showTitle": false,
     "title": ""
    }
   },
   "outputs": [],
   "source": [
    "presentation_ath_per_discipline_df.write.format('delta').mode('overwrite').saveAsTable(\"olympic_tokyo_presentation.athlete_per_discipline\")"
   ]
  },
  {
   "cell_type": "markdown",
   "metadata": {
    "application/vnd.databricks.v1+cell": {
     "cellMetadata": {
      "byteLimit": 2048000,
      "rowLimit": 10000
     },
     "inputWidgets": {},
     "nuid": "5743d87f-e4a2-443f-bb29-f910eed28ca6",
     "showTitle": false,
     "title": ""
    }
   },
   "source": [
    "### 2. Entries gender EDA"
   ]
  },
  {
   "cell_type": "markdown",
   "metadata": {
    "application/vnd.databricks.v1+cell": {
     "cellMetadata": {},
     "inputWidgets": {},
     "nuid": "41a5f050-c19c-4d6c-b0bd-1a44baf1fee5",
     "showTitle": false,
     "title": ""
    }
   },
   "source": [
    "### 2.1. Entries gender from each discipline"
   ]
  },
  {
   "cell_type": "code",
   "execution_count": 0,
   "metadata": {
    "application/vnd.databricks.v1+cell": {
     "cellMetadata": {
      "byteLimit": 2048000,
      "rowLimit": 10000
     },
     "inputWidgets": {},
     "nuid": "3c100b97-ee57-4b6a-8379-ed2a0105ba9c",
     "showTitle": false,
     "title": ""
    }
   },
   "outputs": [],
   "source": [
    "entriesgender_df.write.format('delta').mode('overwrite').saveAsTable(\"olympic_tokyo_presentation.entriesgender_per_discipline\")"
   ]
  },
  {
   "cell_type": "markdown",
   "metadata": {
    "application/vnd.databricks.v1+cell": {
     "cellMetadata": {},
     "inputWidgets": {},
     "nuid": "1c15a5ed-7b1c-4ebd-a857-ffe7e8640554",
     "showTitle": false,
     "title": ""
    }
   },
   "source": [
    "### 3. Medals EDA"
   ]
  },
  {
   "cell_type": "markdown",
   "metadata": {
    "application/vnd.databricks.v1+cell": {
     "cellMetadata": {},
     "inputWidgets": {},
     "nuid": "f94fde54-040d-4be6-b512-5c75227664e3",
     "showTitle": false,
     "title": ""
    }
   },
   "source": [
    "### 3.1 Medals standing from each country"
   ]
  },
  {
   "cell_type": "code",
   "execution_count": 0,
   "metadata": {
    "application/vnd.databricks.v1+cell": {
     "cellMetadata": {
      "byteLimit": 2048000,
      "rowLimit": 10000
     },
     "inputWidgets": {},
     "nuid": "d7fe15c5-7221-472b-b656-3312cf334e42",
     "showTitle": false,
     "title": ""
    }
   },
   "outputs": [],
   "source": [
    "medals_df.write.format('delta').mode('overwrite').saveAsTable(\"olympic_tokyo_presentation.medals_standing\")"
   ]
  },
  {
   "cell_type": "code",
   "execution_count": 0,
   "metadata": {
    "application/vnd.databricks.v1+cell": {
     "cellMetadata": {},
     "inputWidgets": {},
     "nuid": "1e9fe48b-acd7-40fb-aebc-c79aa7a17f42",
     "showTitle": false,
     "title": ""
    }
   },
   "outputs": [],
   "source": []
  }
 ],
 "metadata": {
  "application/vnd.databricks.v1+notebook": {
   "dashboards": [],
   "language": "python",
   "notebookMetadata": {
    "mostRecentlyExecutedCommandWithImplicitDF": {
     "commandId": 1785965235808324,
     "dataframes": [
      "_sqldf"
     ]
    },
    "pythonIndentUnit": 4
   },
   "notebookName": "3. Transform",
   "widgets": {}
  }
 },
 "nbformat": 4,
 "nbformat_minor": 0
}
